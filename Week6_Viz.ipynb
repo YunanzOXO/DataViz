{
 "cells": [
  {
   "cell_type": "code",
   "execution_count": 21,
   "id": "e9124131",
   "metadata": {},
   "outputs": [],
   "source": [
    "import bqplot\n",
    "import numpy as np"
   ]
  },
  {
   "cell_type": "code",
   "execution_count": 22,
   "id": "9cff7605",
   "metadata": {},
   "outputs": [],
   "source": [
    "x = np.arange(100)"
   ]
  },
  {
   "cell_type": "code",
   "execution_count": 23,
   "id": "01e40267",
   "metadata": {},
   "outputs": [],
   "source": [
    "y = np.random.random(100)"
   ]
  },
  {
   "cell_type": "code",
   "execution_count": 24,
   "id": "e4c31697",
   "metadata": {},
   "outputs": [],
   "source": [
    "x_sc = bqplot.LinearScale()\n",
    "y_sc = bqplot.LinearScale()"
   ]
  },
  {
   "cell_type": "code",
   "execution_count": 25,
   "id": "b8ad9840",
   "metadata": {},
   "outputs": [],
   "source": [
    "lines = bqplot.Lines(x=x, y=y, scales = {'x':x_sc, 'y':y_sc})"
   ]
  },
  {
   "cell_type": "code",
   "execution_count": 26,
   "id": "6a8c5625",
   "metadata": {},
   "outputs": [],
   "source": [
    "ax_x = bqplot.Axis(scale=x_sc, label='X Value')\n",
    "ax_y = bqplot.Axis(scale=y_sc, label='Y Value', orientation='vertical')"
   ]
  },
  {
   "cell_type": "code",
   "execution_count": 27,
   "id": "84607f41",
   "metadata": {},
   "outputs": [],
   "source": [
    "fig = bqplot.Figure(marks=[lines], axes=[ax_x, ax_y])"
   ]
  },
  {
   "cell_type": "code",
   "execution_count": 28,
   "id": "74879a03",
   "metadata": {},
   "outputs": [
    {
     "data": {
      "application/vnd.jupyter.widget-view+json": {
       "model_id": "c2b4e4f1b1ab40789305baefe8e3edbf",
       "version_major": 2,
       "version_minor": 0
      },
      "text/plain": [
       "Figure(axes=[Axis(label='X Value', scale=LinearScale(), side='bottom'), Axis(label='Y Value', orientation='ver…"
      ]
     },
     "metadata": {},
     "output_type": "display_data"
    }
   ],
   "source": [
    "fig"
   ]
  },
  {
   "cell_type": "code",
   "execution_count": 29,
   "id": "d7225ef1",
   "metadata": {},
   "outputs": [],
   "source": [
    "pz = bqplot.interacts.PanZoom( scales = {'x': [x_sc], 'y': [y_sc]})"
   ]
  },
  {
   "cell_type": "code",
   "execution_count": 30,
   "id": "a77046a6",
   "metadata": {},
   "outputs": [],
   "source": [
    "fig = bqplot.Figure(marks=[lines], axes=[ax_x, ax_y], interaction=pz)"
   ]
  },
  {
   "cell_type": "code",
   "execution_count": 31,
   "id": "bb9ae45c",
   "metadata": {},
   "outputs": [
    {
     "data": {
      "application/vnd.jupyter.widget-view+json": {
       "model_id": "08ccdf44f25a4ff8bd6e5dfede81d474",
       "version_major": 2,
       "version_minor": 0
      },
      "text/plain": [
       "Figure(axes=[Axis(label='X Value', scale=LinearScale(), side='bottom'), Axis(label='Y Value', orientation='ver…"
      ]
     },
     "metadata": {},
     "output_type": "display_data"
    }
   ],
   "source": [
    "fig"
   ]
  },
  {
   "cell_type": "code",
   "execution_count": 32,
   "id": "ae9f6142",
   "metadata": {},
   "outputs": [],
   "source": [
    "x = np.random.random(100)"
   ]
  },
  {
   "cell_type": "code",
   "execution_count": 33,
   "id": "2f544907",
   "metadata": {},
   "outputs": [
    {
     "data": {
      "text/plain": [
       "array([0.64915764, 0.58861931, 0.80721005, 0.59858967, 0.88150102,\n",
       "       0.05573093, 0.40938268, 0.09986777, 0.47003341, 0.31889156,\n",
       "       0.39600366, 0.03820114, 0.43900977, 0.31474222, 0.12746307,\n",
       "       0.5812921 , 0.12420179, 0.23680206, 0.35251306, 0.47775712,\n",
       "       0.43917426, 0.08597837, 0.44582881, 0.58181299, 0.5960199 ,\n",
       "       0.66885733, 0.35636068, 0.65855941, 0.86894269, 0.42189331,\n",
       "       0.82362638, 0.4460666 , 0.52664357, 0.12323539, 0.10546151,\n",
       "       0.679029  , 0.46669433, 0.10665849, 0.55897968, 0.74688844,\n",
       "       0.63996218, 0.84161208, 0.98977864, 0.93763009, 0.54175833,\n",
       "       0.32820297, 0.06521527, 0.82037897, 0.49296205, 0.89858844,\n",
       "       0.69807978, 0.29903848, 0.16841181, 0.56921097, 0.8503008 ,\n",
       "       0.68602965, 0.76427473, 0.27818424, 0.80651099, 0.74519357,\n",
       "       0.52057056, 0.01829636, 0.88722767, 0.7884213 , 0.08306274,\n",
       "       0.77072898, 0.59847094, 0.68933319, 0.92311241, 0.94240573,\n",
       "       0.21787467, 0.59857132, 0.7527694 , 0.4948954 , 0.15550078,\n",
       "       0.93896771, 0.73089723, 0.26468179, 0.8880017 , 0.1492217 ,\n",
       "       0.36854341, 0.67649632, 0.36372011, 0.26162034, 0.90732408,\n",
       "       0.36597329, 0.87070806, 0.97712119, 0.51115385, 0.3230089 ,\n",
       "       0.96706611, 0.17531712, 0.63771024, 0.52476324, 0.33735024,\n",
       "       0.75441219, 0.42323335, 0.63218875, 0.26006053, 0.16617133])"
      ]
     },
     "execution_count": 33,
     "metadata": {},
     "output_type": "execute_result"
    }
   ],
   "source": [
    "x"
   ]
  },
  {
   "cell_type": "code",
   "execution_count": 34,
   "id": "376cff97",
   "metadata": {},
   "outputs": [],
   "source": [
    "y = np.random.random(100)"
   ]
  },
  {
   "cell_type": "code",
   "execution_count": 35,
   "id": "4a35f6e9",
   "metadata": {},
   "outputs": [
    {
     "data": {
      "text/plain": [
       "array([0.33603547, 0.77602696, 0.91815771, 0.05801819, 0.00515594,\n",
       "       0.42313297, 0.76768728, 0.44233221, 0.45198008, 0.23294233,\n",
       "       0.17236195, 0.78575535, 0.8523955 , 0.66541639, 0.1643369 ,\n",
       "       0.59772788, 0.54062404, 0.02185447, 0.25937275, 0.50092689,\n",
       "       0.10820443, 0.0385018 , 0.49533483, 0.84163663, 0.82206546,\n",
       "       0.35729003, 0.55938664, 0.28793635, 0.37591898, 0.20926441,\n",
       "       0.00988055, 0.18557558, 0.01273503, 0.7555732 , 0.25451069,\n",
       "       0.76353115, 0.42534841, 0.6090838 , 0.54463068, 0.1776855 ,\n",
       "       0.35364312, 0.9897529 , 0.24945146, 0.65754981, 0.36524841,\n",
       "       0.1193943 , 0.69404782, 0.07631068, 0.81198727, 0.52665314,\n",
       "       0.62132173, 0.96975553, 0.16267556, 0.29988104, 0.23197074,\n",
       "       0.84704782, 0.87208152, 0.19344443, 0.156513  , 0.77193249,\n",
       "       0.53310487, 0.36646415, 0.03853696, 0.10516111, 0.91799614,\n",
       "       0.81560178, 0.21856731, 0.64220606, 0.77756782, 0.69514162,\n",
       "       0.54166421, 0.2241872 , 0.57932841, 0.71306296, 0.16430319,\n",
       "       0.25150591, 0.84520349, 0.67982755, 0.76853643, 0.94301385,\n",
       "       0.14213226, 0.82528369, 0.97717285, 0.76441076, 0.24001178,\n",
       "       0.94907868, 0.85401683, 0.63962427, 0.44130899, 0.72131757,\n",
       "       0.2645623 , 0.40091537, 0.53601089, 0.87395088, 0.42484601,\n",
       "       0.35930987, 0.80630364, 0.0980098 , 0.25008733, 0.2434928 ])"
      ]
     },
     "execution_count": 35,
     "metadata": {},
     "output_type": "execute_result"
    }
   ],
   "source": [
    "y"
   ]
  },
  {
   "cell_type": "code",
   "execution_count": 36,
   "id": "ff9450c9",
   "metadata": {},
   "outputs": [],
   "source": [
    "x_sc = bqplot.LinearScale()\n",
    "y_sc = bqplot.LinearScale()"
   ]
  },
  {
   "cell_type": "code",
   "execution_count": 37,
   "id": "281bde7e",
   "metadata": {},
   "outputs": [],
   "source": [
    "ax_x = bqplot.Axis(scale = x_sc, label=\"X\")\n",
    "ax_y = bqplot.Axis(scale = y_sc, label=\"Y\", orientation='vertical')"
   ]
  },
  {
   "cell_type": "code",
   "execution_count": 38,
   "id": "b4fa9957",
   "metadata": {},
   "outputs": [],
   "source": [
    "scatters = bqplot.Scatter(x = x, y = y, scales={'x':x_sc, 'y':y_sc})"
   ]
  },
  {
   "cell_type": "code",
   "execution_count": 39,
   "id": "d52e9a82",
   "metadata": {},
   "outputs": [
    {
     "data": {
      "text/plain": [
       "bqplot.marks.Scatter"
      ]
     },
     "execution_count": 39,
     "metadata": {},
     "output_type": "execute_result"
    }
   ],
   "source": [
    "bqplot.Scatter"
   ]
  },
  {
   "cell_type": "code",
   "execution_count": 40,
   "id": "cb9adf67",
   "metadata": {},
   "outputs": [
    {
     "data": {
      "text/plain": [
       "bqplot.interacts.FastIntervalSelector"
      ]
     },
     "execution_count": 40,
     "metadata": {},
     "output_type": "execute_result"
    }
   ],
   "source": [
    "bqplot.interacts.FastIntervalSelector"
   ]
  },
  {
   "cell_type": "code",
   "execution_count": 41,
   "id": "0c8013d7",
   "metadata": {},
   "outputs": [],
   "source": [
    "selector = bqplot.interacts.FastIntervalSelector(scale=x_sc, marks=[scatters])"
   ]
  },
  {
   "cell_type": "code",
   "execution_count": 42,
   "id": "7c28dfda",
   "metadata": {},
   "outputs": [
    {
     "data": {
      "application/vnd.jupyter.widget-view+json": {
       "model_id": "30bf2d6c361d46e0a54c62be432a88cd",
       "version_major": 2,
       "version_minor": 0
      },
      "text/plain": [
       "Figure(axes=[Axis(label='X', scale=LinearScale(), side='bottom'), Axis(label='Y', orientation='vertical', scal…"
      ]
     },
     "metadata": {},
     "output_type": "display_data"
    }
   ],
   "source": [
    "fig = bqplot.Figure(marks=[scatters], axes=[ax_x, ax_y], interaction = selector)\n",
    "fig"
   ]
  },
  {
   "cell_type": "code",
   "execution_count": 43,
   "id": "2b305666",
   "metadata": {},
   "outputs": [],
   "source": [
    "selector.selected"
   ]
  },
  {
   "cell_type": "code",
   "execution_count": 44,
   "id": "88c08650",
   "metadata": {},
   "outputs": [],
   "source": [
    "scatters.unselected_style = {'opacity':0.8} # a little see-through when not selected\n",
    "scatters.selected_style={'fill':'red', 'stroke':'yellow'}"
   ]
  },
  {
   "cell_type": "code",
   "execution_count": 45,
   "id": "8b31f33f",
   "metadata": {},
   "outputs": [
    {
     "data": {
      "application/vnd.jupyter.widget-view+json": {
       "model_id": "30bf2d6c361d46e0a54c62be432a88cd",
       "version_major": 2,
       "version_minor": 0
      },
      "text/plain": [
       "Figure(axes=[Axis(label='X', scale=LinearScale(), side='bottom'), Axis(label='Y', orientation='vertical', scal…"
      ]
     },
     "metadata": {},
     "output_type": "display_data"
    }
   ],
   "source": [
    "fig"
   ]
  },
  {
   "cell_type": "code",
   "execution_count": 46,
   "id": "c6f0ed81",
   "metadata": {},
   "outputs": [
    {
     "data": {
      "text/plain": [
       "array([0.64915764, 0.58861931, 0.80721005, 0.59858967, 0.88150102,\n",
       "       0.05573093, 0.40938268, 0.09986777, 0.47003341, 0.31889156,\n",
       "       0.39600366, 0.03820114, 0.43900977, 0.31474222, 0.12746307,\n",
       "       0.5812921 , 0.12420179, 0.23680206, 0.35251306, 0.47775712,\n",
       "       0.43917426, 0.08597837, 0.44582881, 0.58181299, 0.5960199 ,\n",
       "       0.66885733, 0.35636068, 0.65855941, 0.86894269, 0.42189331,\n",
       "       0.82362638, 0.4460666 , 0.52664357, 0.12323539, 0.10546151,\n",
       "       0.679029  , 0.46669433, 0.10665849, 0.55897968, 0.74688844,\n",
       "       0.63996218, 0.84161208, 0.98977864, 0.93763009, 0.54175833,\n",
       "       0.32820297, 0.06521527, 0.82037897, 0.49296205, 0.89858844,\n",
       "       0.69807978, 0.29903848, 0.16841181, 0.56921097, 0.8503008 ,\n",
       "       0.68602965, 0.76427473, 0.27818424, 0.80651099, 0.74519357,\n",
       "       0.52057056, 0.01829636, 0.88722767, 0.7884213 , 0.08306274,\n",
       "       0.77072898, 0.59847094, 0.68933319, 0.92311241, 0.94240573,\n",
       "       0.21787467, 0.59857132, 0.7527694 , 0.4948954 , 0.15550078,\n",
       "       0.93896771, 0.73089723, 0.26468179, 0.8880017 , 0.1492217 ,\n",
       "       0.36854341, 0.67649632, 0.36372011, 0.26162034, 0.90732408,\n",
       "       0.36597329, 0.87070806, 0.97712119, 0.51115385, 0.3230089 ,\n",
       "       0.96706611, 0.17531712, 0.63771024, 0.52476324, 0.33735024,\n",
       "       0.75441219, 0.42323335, 0.63218875, 0.26006053, 0.16617133])"
      ]
     },
     "execution_count": 46,
     "metadata": {},
     "output_type": "execute_result"
    }
   ],
   "source": [
    "x"
   ]
  },
  {
   "cell_type": "code",
   "execution_count": 47,
   "id": "92ac8012",
   "metadata": {},
   "outputs": [
    {
     "data": {
      "text/plain": [
       "array([0.33603547, 0.77602696, 0.91815771, 0.05801819, 0.00515594,\n",
       "       0.42313297, 0.76768728, 0.44233221, 0.45198008, 0.23294233,\n",
       "       0.17236195, 0.78575535, 0.8523955 , 0.66541639, 0.1643369 ,\n",
       "       0.59772788, 0.54062404, 0.02185447, 0.25937275, 0.50092689,\n",
       "       0.10820443, 0.0385018 , 0.49533483, 0.84163663, 0.82206546,\n",
       "       0.35729003, 0.55938664, 0.28793635, 0.37591898, 0.20926441,\n",
       "       0.00988055, 0.18557558, 0.01273503, 0.7555732 , 0.25451069,\n",
       "       0.76353115, 0.42534841, 0.6090838 , 0.54463068, 0.1776855 ,\n",
       "       0.35364312, 0.9897529 , 0.24945146, 0.65754981, 0.36524841,\n",
       "       0.1193943 , 0.69404782, 0.07631068, 0.81198727, 0.52665314,\n",
       "       0.62132173, 0.96975553, 0.16267556, 0.29988104, 0.23197074,\n",
       "       0.84704782, 0.87208152, 0.19344443, 0.156513  , 0.77193249,\n",
       "       0.53310487, 0.36646415, 0.03853696, 0.10516111, 0.91799614,\n",
       "       0.81560178, 0.21856731, 0.64220606, 0.77756782, 0.69514162,\n",
       "       0.54166421, 0.2241872 , 0.57932841, 0.71306296, 0.16430319,\n",
       "       0.25150591, 0.84520349, 0.67982755, 0.76853643, 0.94301385,\n",
       "       0.14213226, 0.82528369, 0.97717285, 0.76441076, 0.24001178,\n",
       "       0.94907868, 0.85401683, 0.63962427, 0.44130899, 0.72131757,\n",
       "       0.2645623 , 0.40091537, 0.53601089, 0.87395088, 0.42484601,\n",
       "       0.35930987, 0.80630364, 0.0980098 , 0.25008733, 0.2434928 ])"
      ]
     },
     "execution_count": 47,
     "metadata": {},
     "output_type": "execute_result"
    }
   ],
   "source": [
    "y"
   ]
  },
  {
   "cell_type": "code",
   "execution_count": null,
   "id": "39f8c017",
   "metadata": {},
   "outputs": [],
   "source": [
    "y.shape"
   ]
  }
 ],
 "metadata": {
  "kernelspec": {
   "display_name": "Python 3 (ipykernel)",
   "language": "python",
   "name": "python3"
  },
  "language_info": {
   "codemirror_mode": {
    "name": "ipython",
    "version": 3
   },
   "file_extension": ".py",
   "mimetype": "text/x-python",
   "name": "python",
   "nbconvert_exporter": "python",
   "pygments_lexer": "ipython3",
   "version": "3.9.12"
  }
 },
 "nbformat": 4,
 "nbformat_minor": 5
}
